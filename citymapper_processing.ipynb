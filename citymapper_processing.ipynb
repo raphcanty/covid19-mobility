{
 "cells": [
  {
   "cell_type": "code",
   "execution_count": 2,
   "id": "enabling-crystal",
   "metadata": {},
   "outputs": [],
   "source": [
    "import pandas as pd"
   ]
  },
  {
   "cell_type": "code",
   "execution_count": 3,
   "id": "assumed-distance",
   "metadata": {},
   "outputs": [
    {
     "data": {
      "text/html": [
       "<div>\n",
       "<style scoped>\n",
       "    .dataframe tbody tr th:only-of-type {\n",
       "        vertical-align: middle;\n",
       "    }\n",
       "\n",
       "    .dataframe tbody tr th {\n",
       "        vertical-align: top;\n",
       "    }\n",
       "\n",
       "    .dataframe thead th {\n",
       "        text-align: right;\n",
       "    }\n",
       "</style>\n",
       "<table border=\"1\" class=\"dataframe\">\n",
       "  <thead>\n",
       "    <tr style=\"text-align: right;\">\n",
       "      <th></th>\n",
       "      <th>London</th>\n",
       "    </tr>\n",
       "    <tr>\n",
       "      <th>Date</th>\n",
       "      <th></th>\n",
       "    </tr>\n",
       "  </thead>\n",
       "  <tbody>\n",
       "    <tr>\n",
       "      <th>2020-03-02</th>\n",
       "      <td>1.00</td>\n",
       "    </tr>\n",
       "    <tr>\n",
       "      <th>2020-03-03</th>\n",
       "      <td>1.02</td>\n",
       "    </tr>\n",
       "    <tr>\n",
       "      <th>2020-03-04</th>\n",
       "      <td>1.00</td>\n",
       "    </tr>\n",
       "    <tr>\n",
       "      <th>2020-03-05</th>\n",
       "      <td>1.01</td>\n",
       "    </tr>\n",
       "    <tr>\n",
       "      <th>2020-03-06</th>\n",
       "      <td>0.99</td>\n",
       "    </tr>\n",
       "    <tr>\n",
       "      <th>...</th>\n",
       "      <td>...</td>\n",
       "    </tr>\n",
       "    <tr>\n",
       "      <th>2021-05-29</th>\n",
       "      <td>0.75</td>\n",
       "    </tr>\n",
       "    <tr>\n",
       "      <th>2021-05-30</th>\n",
       "      <td>0.78</td>\n",
       "    </tr>\n",
       "    <tr>\n",
       "      <th>2021-05-31</th>\n",
       "      <td>0.71</td>\n",
       "    </tr>\n",
       "    <tr>\n",
       "      <th>2021-06-01</th>\n",
       "      <td>0.61</td>\n",
       "    </tr>\n",
       "    <tr>\n",
       "      <th>2021-06-02</th>\n",
       "      <td>0.62</td>\n",
       "    </tr>\n",
       "  </tbody>\n",
       "</table>\n",
       "<p>458 rows × 1 columns</p>\n",
       "</div>"
      ],
      "text/plain": [
       "            London\n",
       "Date              \n",
       "2020-03-02    1.00\n",
       "2020-03-03    1.02\n",
       "2020-03-04    1.00\n",
       "2020-03-05    1.01\n",
       "2020-03-06    0.99\n",
       "...            ...\n",
       "2021-05-29    0.75\n",
       "2021-05-30    0.78\n",
       "2021-05-31    0.71\n",
       "2021-06-01    0.61\n",
       "2021-06-02    0.62\n",
       "\n",
       "[458 rows x 1 columns]"
      ]
     },
     "execution_count": 3,
     "metadata": {},
     "output_type": "execute_result"
    }
   ],
   "source": [
    "# Cleaning and saving\n",
    "citymapper = pd.read_csv(\"Citymapper_Mobility_Index_20210603.csv\", header=3, index_col=0, usecols=['Date','London']).dropna()\n",
    "citymapper"
   ]
  },
  {
   "cell_type": "code",
   "execution_count": 10,
   "id": "ignored-links",
   "metadata": {},
   "outputs": [],
   "source": [
    "citymapper.to_csv('datasets/citymapper.csv')"
   ]
  },
  {
   "cell_type": "markdown",
   "id": "sought-sydney",
   "metadata": {},
   "source": [
    "## Analysis"
   ]
  },
  {
   "cell_type": "code",
   "execution_count": 15,
   "id": "thirty-twist",
   "metadata": {
    "scrolled": true
   },
   "outputs": [
    {
     "data": {
      "image/png": "[encoded data removed]",
      "text/plain": [
       "<Figure size 432x288 with 1 Axes>"
      ]
     },
     "metadata": {
      "needs_background": "light"
     },
     "output_type": "display_data"
    }
   ],
   "source": [
    "import matplotlib.pyplot as plt\n",
    "plt.plot(citymapper.index,citymapper.London)\n",
    "plt.show()"
   ]
  },
  {
   "cell_type": "code",
   "execution_count": 12,
   "id": "human-infrastructure",
   "metadata": {},
   "outputs": [
    {
     "data": {
      "text/plain": [
       "London    0.097115\n",
       "dtype: float64"
      ]
     },
     "execution_count": 12,
     "metadata": {},
     "output_type": "execute_result"
    }
   ],
   "source": [
    "# First lockdown\n",
    "citymapper.loc['2020-03-23':'2020-05-13'].mean()"
   ]
  },
  {
   "cell_type": "code",
   "execution_count": 13,
   "id": "specialized-pride",
   "metadata": {},
   "outputs": [
    {
     "data": {
      "text/plain": [
       "London    0.296786\n",
       "dtype: float64"
      ]
     },
     "execution_count": 13,
     "metadata": {},
     "output_type": "execute_result"
    }
   ],
   "source": [
    "# Second lockdown\n",
    "citymapper.loc['2020-11-05':'2020-12-02'].mean()"
   ]
  },
  {
   "cell_type": "code",
   "execution_count": 16,
   "id": "mental-parcel",
   "metadata": {},
   "outputs": [
    {
     "data": {
      "text/plain": [
       "London    0.21481\n",
       "dtype: float64"
      ]
     },
     "execution_count": 16,
     "metadata": {},
     "output_type": "execute_result"
    }
   ],
   "source": [
    "# Third lockdown\n",
    "citymapper.loc['2020-12-20':'2021-03-08'].mean()"
   ]
  },
  {
   "cell_type": "code",
   "execution_count": 17,
   "id": "incorporated-fraction",
   "metadata": {},
   "outputs": [
    {
     "data": {
      "text/plain": [
       "0.78519"
      ]
     },
     "execution_count": 17,
     "metadata": {},
     "output_type": "execute_result"
    }
   ],
   "source": [
    "1-0.21481"
   ]
  },
  {
   "cell_type": "code",
   "execution_count": null,
   "id": "preceding-employee",
   "metadata": {},
   "outputs": [],
   "source": []
  }
 ],
 "metadata": {
  "kernelspec": {
   "display_name": "Python 3",
   "language": "python",
   "name": "python3"
  },
  "language_info": {
   "codemirror_mode": {
    "name": "ipython",
    "version": 3
   },
   "file_extension": ".py",
   "mimetype": "text/x-python",
   "name": "python",
   "nbconvert_exporter": "python",
   "pygments_lexer": "ipython3",
   "version": "3.9.4"
  }
 },
 "nbformat": 4,
 "nbformat_minor": 5
}
