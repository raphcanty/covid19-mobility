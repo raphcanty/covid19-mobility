{
 "cells": [
  {
   "cell_type": "markdown",
   "id": "impossible-groove",
   "metadata": {},
   "source": [
    "## Tomtom processing"
   ]
  },
  {
   "cell_type": "code",
   "execution_count": 1,
   "id": "fossil-parade",
   "metadata": {},
   "outputs": [],
   "source": [
    "import pandas as pd\n",
    "import numpy as np"
   ]
  },
  {
   "cell_type": "code",
   "execution_count": 13,
   "id": "capable-tablet",
   "metadata": {},
   "outputs": [
    {
     "data": {
      "text/html": [
       "<div>\n",
       "<style scoped>\n",
       "    .dataframe tbody tr th:only-of-type {\n",
       "        vertical-align: middle;\n",
       "    }\n",
       "\n",
       "    .dataframe tbody tr th {\n",
       "        vertical-align: top;\n",
       "    }\n",
       "\n",
       "    .dataframe thead th {\n",
       "        text-align: right;\n",
       "    }\n",
       "</style>\n",
       "<table border=\"1\" class=\"dataframe\">\n",
       "  <thead>\n",
       "    <tr style=\"text-align: right;\">\n",
       "      <th></th>\n",
       "      <th>congestion</th>\n",
       "      <th>diffRatio</th>\n",
       "    </tr>\n",
       "    <tr>\n",
       "      <th>date</th>\n",
       "      <th></th>\n",
       "      <th></th>\n",
       "    </tr>\n",
       "  </thead>\n",
       "  <tbody>\n",
       "    <tr>\n",
       "      <th>2019-12-30</th>\n",
       "      <td>21</td>\n",
       "      <td>-0.363636</td>\n",
       "    </tr>\n",
       "    <tr>\n",
       "      <th>2019-12-31</th>\n",
       "      <td>20</td>\n",
       "      <td>-0.459459</td>\n",
       "    </tr>\n",
       "    <tr>\n",
       "      <th>2020-01-01</th>\n",
       "      <td>11</td>\n",
       "      <td>-0.710526</td>\n",
       "    </tr>\n",
       "    <tr>\n",
       "      <th>2020-01-02</th>\n",
       "      <td>19</td>\n",
       "      <td>-0.512821</td>\n",
       "    </tr>\n",
       "    <tr>\n",
       "      <th>2020-01-03</th>\n",
       "      <td>22</td>\n",
       "      <td>-0.421053</td>\n",
       "    </tr>\n",
       "    <tr>\n",
       "      <th>...</th>\n",
       "      <td>...</td>\n",
       "      <td>...</td>\n",
       "    </tr>\n",
       "    <tr>\n",
       "      <th>2021-07-27</th>\n",
       "      <td>29</td>\n",
       "      <td>-0.216216</td>\n",
       "    </tr>\n",
       "    <tr>\n",
       "      <th>2021-07-28</th>\n",
       "      <td>34</td>\n",
       "      <td>-0.105263</td>\n",
       "    </tr>\n",
       "    <tr>\n",
       "      <th>2021-07-29</th>\n",
       "      <td>33</td>\n",
       "      <td>-0.153846</td>\n",
       "    </tr>\n",
       "    <tr>\n",
       "      <th>2021-07-30</th>\n",
       "      <td>38</td>\n",
       "      <td>0.000000</td>\n",
       "    </tr>\n",
       "    <tr>\n",
       "      <th>2021-07-31</th>\n",
       "      <td>30</td>\n",
       "      <td>0.071429</td>\n",
       "    </tr>\n",
       "  </tbody>\n",
       "</table>\n",
       "<p>576 rows × 2 columns</p>\n",
       "</div>"
      ],
      "text/plain": [
       "            congestion  diffRatio\n",
       "date                             \n",
       "2019-12-30          21  -0.363636\n",
       "2019-12-31          20  -0.459459\n",
       "2020-01-01          11  -0.710526\n",
       "2020-01-02          19  -0.512821\n",
       "2020-01-03          22  -0.421053\n",
       "...                ...        ...\n",
       "2021-07-27          29  -0.216216\n",
       "2021-07-28          34  -0.105263\n",
       "2021-07-29          33  -0.153846\n",
       "2021-07-30          38   0.000000\n",
       "2021-07-31          30   0.071429\n",
       "\n",
       "[576 rows x 2 columns]"
      ]
     },
     "execution_count": 13,
     "metadata": {},
     "output_type": "execute_result"
    }
   ],
   "source": [
    "tomtom = pd.read_csv('../data_sources/tomtom_traffic_index.csv')\n",
    "london = tomtom.loc[(tomtom.country=='United Kingdom') & (tomtom.city=='London')]\\\n",
    "               .set_index('date').drop(['country', 'city'], axis=1).loc[:'2021-07-31']\n",
    "london"
   ]
  },
  {
   "cell_type": "code",
   "execution_count": 14,
   "id": "jewish-marsh",
   "metadata": {},
   "outputs": [],
   "source": [
    "london.to_csv('../datasets/tomtom_london.csv')"
   ]
  },
  {
   "cell_type": "code",
   "execution_count": 24,
   "id": "academic-festival",
   "metadata": {},
   "outputs": [
    {
     "data": {
      "text/html": [
       "<div>\n",
       "<style scoped>\n",
       "    .dataframe tbody tr th:only-of-type {\n",
       "        vertical-align: middle;\n",
       "    }\n",
       "\n",
       "    .dataframe tbody tr th {\n",
       "        vertical-align: top;\n",
       "    }\n",
       "\n",
       "    .dataframe thead th {\n",
       "        text-align: right;\n",
       "    }\n",
       "</style>\n",
       "<table border=\"1\" class=\"dataframe\">\n",
       "  <thead>\n",
       "    <tr style=\"text-align: right;\">\n",
       "      <th></th>\n",
       "      <th>congestion</th>\n",
       "      <th>diffRatio</th>\n",
       "    </tr>\n",
       "    <tr>\n",
       "      <th>date</th>\n",
       "      <th></th>\n",
       "      <th></th>\n",
       "    </tr>\n",
       "  </thead>\n",
       "  <tbody>\n",
       "    <tr>\n",
       "      <th>2019-12-30</th>\n",
       "      <td>20</td>\n",
       "      <td>-0.354839</td>\n",
       "    </tr>\n",
       "    <tr>\n",
       "      <th>2019-12-31</th>\n",
       "      <td>19</td>\n",
       "      <td>-0.457143</td>\n",
       "    </tr>\n",
       "    <tr>\n",
       "      <th>2020-01-01</th>\n",
       "      <td>13</td>\n",
       "      <td>-0.648649</td>\n",
       "    </tr>\n",
       "    <tr>\n",
       "      <th>2020-01-02</th>\n",
       "      <td>20</td>\n",
       "      <td>-0.459459</td>\n",
       "    </tr>\n",
       "    <tr>\n",
       "      <th>2020-01-03</th>\n",
       "      <td>21</td>\n",
       "      <td>-0.416667</td>\n",
       "    </tr>\n",
       "    <tr>\n",
       "      <th>...</th>\n",
       "      <td>...</td>\n",
       "      <td>...</td>\n",
       "    </tr>\n",
       "    <tr>\n",
       "      <th>2021-07-27</th>\n",
       "      <td>9</td>\n",
       "      <td>-0.742857</td>\n",
       "    </tr>\n",
       "    <tr>\n",
       "      <th>2021-07-28</th>\n",
       "      <td>9</td>\n",
       "      <td>-0.756757</td>\n",
       "    </tr>\n",
       "    <tr>\n",
       "      <th>2021-07-29</th>\n",
       "      <td>9</td>\n",
       "      <td>-0.756757</td>\n",
       "    </tr>\n",
       "    <tr>\n",
       "      <th>2021-07-30</th>\n",
       "      <td>9</td>\n",
       "      <td>-0.750000</td>\n",
       "    </tr>\n",
       "    <tr>\n",
       "      <th>2021-07-31</th>\n",
       "      <td>8</td>\n",
       "      <td>-0.692308</td>\n",
       "    </tr>\n",
       "  </tbody>\n",
       "</table>\n",
       "<p>575 rows × 2 columns</p>\n",
       "</div>"
      ],
      "text/plain": [
       "            congestion  diffRatio\n",
       "date                             \n",
       "2019-12-30          20  -0.354839\n",
       "2019-12-31          19  -0.457143\n",
       "2020-01-01          13  -0.648649\n",
       "2020-01-02          20  -0.459459\n",
       "2020-01-03          21  -0.416667\n",
       "...                ...        ...\n",
       "2021-07-27           9  -0.742857\n",
       "2021-07-28           9  -0.756757\n",
       "2021-07-29           9  -0.756757\n",
       "2021-07-30           9  -0.750000\n",
       "2021-07-31           8  -0.692308\n",
       "\n",
       "[575 rows x 2 columns]"
      ]
     },
     "execution_count": 24,
     "metadata": {},
     "output_type": "execute_result"
    }
   ],
   "source": [
    "sydney = tomtom.loc[(tomtom.country=='Australia') & (tomtom.city=='Sydney')]\\\n",
    "                .set_index('date').drop(['country', 'city'], axis=1).loc[:'2021-07-31']\n",
    "sydney"
   ]
  },
  {
   "cell_type": "code",
   "execution_count": 25,
   "id": "foreign-courtesy",
   "metadata": {},
   "outputs": [],
   "source": [
    "sydney.to_csv('../datasets/tomtom_sydney.csv')"
   ]
  },
  {
   "cell_type": "code",
   "execution_count": 29,
   "id": "north-qualification",
   "metadata": {},
   "outputs": [
    {
     "data": {
      "text/html": [
       "<div>\n",
       "<style scoped>\n",
       "    .dataframe tbody tr th:only-of-type {\n",
       "        vertical-align: middle;\n",
       "    }\n",
       "\n",
       "    .dataframe tbody tr th {\n",
       "        vertical-align: top;\n",
       "    }\n",
       "\n",
       "    .dataframe thead th {\n",
       "        text-align: right;\n",
       "    }\n",
       "</style>\n",
       "<table border=\"1\" class=\"dataframe\">\n",
       "  <thead>\n",
       "    <tr style=\"text-align: right;\">\n",
       "      <th></th>\n",
       "      <th>congestion</th>\n",
       "      <th>diffRatio</th>\n",
       "    </tr>\n",
       "    <tr>\n",
       "      <th>date</th>\n",
       "      <th></th>\n",
       "      <th></th>\n",
       "    </tr>\n",
       "  </thead>\n",
       "  <tbody>\n",
       "    <tr>\n",
       "      <th>2019-12-30</th>\n",
       "      <td>22</td>\n",
       "      <td>-0.043478</td>\n",
       "    </tr>\n",
       "    <tr>\n",
       "      <th>2019-12-31</th>\n",
       "      <td>24</td>\n",
       "      <td>0.000000</td>\n",
       "    </tr>\n",
       "    <tr>\n",
       "      <th>2020-01-01</th>\n",
       "      <td>7</td>\n",
       "      <td>-0.695652</td>\n",
       "    </tr>\n",
       "    <tr>\n",
       "      <th>2020-01-02</th>\n",
       "      <td>21</td>\n",
       "      <td>-0.125000</td>\n",
       "    </tr>\n",
       "    <tr>\n",
       "      <th>2020-01-03</th>\n",
       "      <td>29</td>\n",
       "      <td>0.074074</td>\n",
       "    </tr>\n",
       "    <tr>\n",
       "      <th>...</th>\n",
       "      <td>...</td>\n",
       "      <td>...</td>\n",
       "    </tr>\n",
       "    <tr>\n",
       "      <th>2021-07-27</th>\n",
       "      <td>39</td>\n",
       "      <td>0.625000</td>\n",
       "    </tr>\n",
       "    <tr>\n",
       "      <th>2021-07-28</th>\n",
       "      <td>40</td>\n",
       "      <td>0.739130</td>\n",
       "    </tr>\n",
       "    <tr>\n",
       "      <th>2021-07-29</th>\n",
       "      <td>42</td>\n",
       "      <td>0.750000</td>\n",
       "    </tr>\n",
       "    <tr>\n",
       "      <th>2021-07-30</th>\n",
       "      <td>46</td>\n",
       "      <td>0.703704</td>\n",
       "    </tr>\n",
       "    <tr>\n",
       "      <th>2021-07-31</th>\n",
       "      <td>41</td>\n",
       "      <td>1.157895</td>\n",
       "    </tr>\n",
       "  </tbody>\n",
       "</table>\n",
       "<p>575 rows × 2 columns</p>\n",
       "</div>"
      ],
      "text/plain": [
       "            congestion  diffRatio\n",
       "date                             \n",
       "2019-12-30          22  -0.043478\n",
       "2019-12-31          24   0.000000\n",
       "2020-01-01           7  -0.695652\n",
       "2020-01-02          21  -0.125000\n",
       "2020-01-03          29   0.074074\n",
       "...                ...        ...\n",
       "2021-07-27          39   0.625000\n",
       "2021-07-28          40   0.739130\n",
       "2021-07-29          42   0.750000\n",
       "2021-07-30          46   0.703704\n",
       "2021-07-31          41   1.157895\n",
       "\n",
       "[575 rows x 2 columns]"
      ]
     },
     "execution_count": 29,
     "metadata": {},
     "output_type": "execute_result"
    }
   ],
   "source": [
    "hong_kong = tomtom.loc[tomtom.country=='Hong Kong']\\\n",
    "                    .set_index('date').drop(['country', 'city'], axis=1).loc[:'2021-07-31']\n",
    "hong_kong"
   ]
  },
  {
   "cell_type": "code",
   "execution_count": 30,
   "id": "mexican-nirvana",
   "metadata": {},
   "outputs": [],
   "source": [
    "hong_kong.to_csv('../datasets/tomtom_hong_kong.csv')"
   ]
  },
  {
   "cell_type": "code",
   "execution_count": 39,
   "id": "ready-spine",
   "metadata": {},
   "outputs": [
    {
     "data": {
      "text/html": [
       "<div>\n",
       "<style scoped>\n",
       "    .dataframe tbody tr th:only-of-type {\n",
       "        vertical-align: middle;\n",
       "    }\n",
       "\n",
       "    .dataframe tbody tr th {\n",
       "        vertical-align: top;\n",
       "    }\n",
       "\n",
       "    .dataframe thead th {\n",
       "        text-align: right;\n",
       "    }\n",
       "</style>\n",
       "<table border=\"1\" class=\"dataframe\">\n",
       "  <thead>\n",
       "    <tr style=\"text-align: right;\">\n",
       "      <th></th>\n",
       "      <th>congestion</th>\n",
       "      <th>diffRatio</th>\n",
       "    </tr>\n",
       "    <tr>\n",
       "      <th>date</th>\n",
       "      <th></th>\n",
       "      <th></th>\n",
       "    </tr>\n",
       "  </thead>\n",
       "  <tbody>\n",
       "    <tr>\n",
       "      <th>2019-12-30</th>\n",
       "      <td>29</td>\n",
       "      <td>-0.033333</td>\n",
       "    </tr>\n",
       "    <tr>\n",
       "      <th>2019-12-31</th>\n",
       "      <td>18</td>\n",
       "      <td>-0.454545</td>\n",
       "    </tr>\n",
       "    <tr>\n",
       "      <th>2020-01-01</th>\n",
       "      <td>6</td>\n",
       "      <td>-0.828571</td>\n",
       "    </tr>\n",
       "    <tr>\n",
       "      <th>2020-01-02</th>\n",
       "      <td>22</td>\n",
       "      <td>-0.405405</td>\n",
       "    </tr>\n",
       "    <tr>\n",
       "      <th>2020-01-03</th>\n",
       "      <td>24</td>\n",
       "      <td>-0.351351</td>\n",
       "    </tr>\n",
       "    <tr>\n",
       "      <th>...</th>\n",
       "      <td>...</td>\n",
       "      <td>...</td>\n",
       "    </tr>\n",
       "    <tr>\n",
       "      <th>2021-07-27</th>\n",
       "      <td>25</td>\n",
       "      <td>-0.242424</td>\n",
       "    </tr>\n",
       "    <tr>\n",
       "      <th>2021-07-28</th>\n",
       "      <td>26</td>\n",
       "      <td>-0.257143</td>\n",
       "    </tr>\n",
       "    <tr>\n",
       "      <th>2021-07-29</th>\n",
       "      <td>29</td>\n",
       "      <td>-0.216216</td>\n",
       "    </tr>\n",
       "    <tr>\n",
       "      <th>2021-07-30</th>\n",
       "      <td>32</td>\n",
       "      <td>-0.135135</td>\n",
       "    </tr>\n",
       "    <tr>\n",
       "      <th>2021-07-31</th>\n",
       "      <td>25</td>\n",
       "      <td>0.086957</td>\n",
       "    </tr>\n",
       "  </tbody>\n",
       "</table>\n",
       "<p>576 rows × 2 columns</p>\n",
       "</div>"
      ],
      "text/plain": [
       "            congestion  diffRatio\n",
       "date                             \n",
       "2019-12-30          29  -0.033333\n",
       "2019-12-31          18  -0.454545\n",
       "2020-01-01           6  -0.828571\n",
       "2020-01-02          22  -0.405405\n",
       "2020-01-03          24  -0.351351\n",
       "...                ...        ...\n",
       "2021-07-27          25  -0.242424\n",
       "2021-07-28          26  -0.257143\n",
       "2021-07-29          29  -0.216216\n",
       "2021-07-30          32  -0.135135\n",
       "2021-07-31          25   0.086957\n",
       "\n",
       "[576 rows x 2 columns]"
      ]
     },
     "execution_count": 39,
     "metadata": {},
     "output_type": "execute_result"
    }
   ],
   "source": [
    "new_york = tomtom.loc[(tomtom.country=='United States of America') & (tomtom.city=='New York')]\\\n",
    "                    .set_index('date').drop(['country', 'city'], axis=1).loc[:'2021-07-31']\n",
    "new_york"
   ]
  },
  {
   "cell_type": "code",
   "execution_count": 40,
   "id": "vietnamese-metropolitan",
   "metadata": {},
   "outputs": [],
   "source": [
    "new_york.to_csv('../datasets/tomtom_new_york.csv')"
   ]
  },
  {
   "cell_type": "code",
   "execution_count": 18,
   "id": "authorized-bidder",
   "metadata": {},
   "outputs": [
    {
     "data": {
      "text/plain": [
       "congestion    9.923077\n",
       "diffRatio    -0.708581\n",
       "dtype: float64"
      ]
     },
     "execution_count": 18,
     "metadata": {},
     "output_type": "execute_result"
    }
   ],
   "source": [
    "# First Lockdown\n",
    "london.loc['2020-03-23':'2020-05-13'].mean()"
   ]
  },
  {
   "cell_type": "code",
   "execution_count": 20,
   "id": "written-senate",
   "metadata": {},
   "outputs": [
    {
     "data": {
      "text/plain": [
       "congestion    25.712195\n",
       "diffRatio     -0.245704\n",
       "dtype: float64"
      ]
     },
     "execution_count": 20,
     "metadata": {},
     "output_type": "execute_result"
    }
   ],
   "source": [
    "# Second lockdown\n",
    "london.loc['2020-05-11':'2020-12-02'].mean()"
   ]
  },
  {
   "cell_type": "code",
   "execution_count": 21,
   "id": "frequent-opera",
   "metadata": {},
   "outputs": [
    {
     "data": {
      "text/plain": [
       "congestion    20.604651\n",
       "diffRatio     -0.390944\n",
       "dtype: float64"
      ]
     },
     "execution_count": 21,
     "metadata": {},
     "output_type": "execute_result"
    }
   ],
   "source": [
    "# Third lockdown\n",
    "london.loc['2020-12-10':'2021-03-08'].mean()"
   ]
  },
  {
   "cell_type": "code",
   "execution_count": 13,
   "id": "breeding-showcase",
   "metadata": {},
   "outputs": [
    {
     "data": {
      "text/plain": [
       "congestion    59.000000\n",
       "diffRatio      0.552632\n",
       "Name: 4/11/20, dtype: float64"
      ]
     },
     "execution_count": 13,
     "metadata": {},
     "output_type": "execute_result"
    }
   ],
   "source": [
    "tomtom.loc['4/11/20']"
   ]
  },
  {
   "cell_type": "code",
   "execution_count": null,
   "id": "helpful-prince",
   "metadata": {},
   "outputs": [],
   "source": []
  }
 ],
 "metadata": {
  "kernelspec": {
   "display_name": "Python 3",
   "language": "python",
   "name": "python3"
  },
  "language_info": {
   "codemirror_mode": {
    "name": "ipython",
    "version": 3
   },
   "file_extension": ".py",
   "mimetype": "text/x-python",
   "name": "python",
   "nbconvert_exporter": "python",
   "pygments_lexer": "ipython3",
   "version": "3.9.4"
  }
 },
 "nbformat": 4,
 "nbformat_minor": 5
}
