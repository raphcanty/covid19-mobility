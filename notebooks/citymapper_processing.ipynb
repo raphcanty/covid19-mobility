{
 "cells": [
  {
   "cell_type": "markdown",
   "id": "ongoing-salvation",
   "metadata": {},
   "source": [
    "## Citymapper CMI Processing"
   ]
  },
  {
   "cell_type": "code",
   "execution_count": 1,
   "id": "enabling-crystal",
   "metadata": {},
   "outputs": [],
   "source": [
    "import pandas as pd\n",
    "import numpy as np"
   ]
  },
  {
   "cell_type": "code",
   "execution_count": 4,
   "id": "assumed-distance",
   "metadata": {},
   "outputs": [
    {
     "data": {
      "text/html": [
       "<div>\n",
       "<style scoped>\n",
       "    .dataframe tbody tr th:only-of-type {\n",
       "        vertical-align: middle;\n",
       "    }\n",
       "\n",
       "    .dataframe tbody tr th {\n",
       "        vertical-align: top;\n",
       "    }\n",
       "\n",
       "    .dataframe thead th {\n",
       "        text-align: right;\n",
       "    }\n",
       "</style>\n",
       "<table border=\"1\" class=\"dataframe\">\n",
       "  <thead>\n",
       "    <tr style=\"text-align: right;\">\n",
       "      <th></th>\n",
       "      <th>Hong Kong</th>\n",
       "      <th>London</th>\n",
       "      <th>New York City</th>\n",
       "      <th>Sydney</th>\n",
       "    </tr>\n",
       "    <tr>\n",
       "      <th>Date</th>\n",
       "      <th></th>\n",
       "      <th></th>\n",
       "      <th></th>\n",
       "      <th></th>\n",
       "    </tr>\n",
       "  </thead>\n",
       "  <tbody>\n",
       "    <tr>\n",
       "      <th>2020-03-02</th>\n",
       "      <td>0.52</td>\n",
       "      <td>1.00</td>\n",
       "      <td>1.00</td>\n",
       "      <td>1.21</td>\n",
       "    </tr>\n",
       "    <tr>\n",
       "      <th>2020-03-03</th>\n",
       "      <td>0.52</td>\n",
       "      <td>1.02</td>\n",
       "      <td>1.02</td>\n",
       "      <td>1.09</td>\n",
       "    </tr>\n",
       "    <tr>\n",
       "      <th>2020-03-04</th>\n",
       "      <td>0.50</td>\n",
       "      <td>1.00</td>\n",
       "      <td>1.04</td>\n",
       "      <td>1.06</td>\n",
       "    </tr>\n",
       "    <tr>\n",
       "      <th>2020-03-05</th>\n",
       "      <td>0.52</td>\n",
       "      <td>1.01</td>\n",
       "      <td>1.02</td>\n",
       "      <td>1.05</td>\n",
       "    </tr>\n",
       "    <tr>\n",
       "      <th>2020-03-06</th>\n",
       "      <td>0.54</td>\n",
       "      <td>0.99</td>\n",
       "      <td>1.03</td>\n",
       "      <td>1.07</td>\n",
       "    </tr>\n",
       "    <tr>\n",
       "      <th>...</th>\n",
       "      <td>...</td>\n",
       "      <td>...</td>\n",
       "      <td>...</td>\n",
       "      <td>...</td>\n",
       "    </tr>\n",
       "    <tr>\n",
       "      <th>2021-07-27</th>\n",
       "      <td>0.60</td>\n",
       "      <td>0.62</td>\n",
       "      <td>0.56</td>\n",
       "      <td>0.10</td>\n",
       "    </tr>\n",
       "    <tr>\n",
       "      <th>2021-07-28</th>\n",
       "      <td>0.59</td>\n",
       "      <td>0.63</td>\n",
       "      <td>0.57</td>\n",
       "      <td>0.10</td>\n",
       "    </tr>\n",
       "    <tr>\n",
       "      <th>2021-07-29</th>\n",
       "      <td>0.59</td>\n",
       "      <td>0.65</td>\n",
       "      <td>0.54</td>\n",
       "      <td>0.10</td>\n",
       "    </tr>\n",
       "    <tr>\n",
       "      <th>2021-07-30</th>\n",
       "      <td>0.56</td>\n",
       "      <td>0.66</td>\n",
       "      <td>0.56</td>\n",
       "      <td>0.10</td>\n",
       "    </tr>\n",
       "    <tr>\n",
       "      <th>2021-07-31</th>\n",
       "      <td>0.56</td>\n",
       "      <td>0.72</td>\n",
       "      <td>0.62</td>\n",
       "      <td>0.12</td>\n",
       "    </tr>\n",
       "  </tbody>\n",
       "</table>\n",
       "<p>517 rows × 4 columns</p>\n",
       "</div>"
      ],
      "text/plain": [
       "            Hong Kong  London  New York City  Sydney\n",
       "Date                                                \n",
       "2020-03-02       0.52    1.00           1.00    1.21\n",
       "2020-03-03       0.52    1.02           1.02    1.09\n",
       "2020-03-04       0.50    1.00           1.04    1.06\n",
       "2020-03-05       0.52    1.01           1.02    1.05\n",
       "2020-03-06       0.54    0.99           1.03    1.07\n",
       "...               ...     ...            ...     ...\n",
       "2021-07-27       0.60    0.62           0.56    0.10\n",
       "2021-07-28       0.59    0.63           0.57    0.10\n",
       "2021-07-29       0.59    0.65           0.54    0.10\n",
       "2021-07-30       0.56    0.66           0.56    0.10\n",
       "2021-07-31       0.56    0.72           0.62    0.12\n",
       "\n",
       "[517 rows x 4 columns]"
      ]
     },
     "execution_count": 4,
     "metadata": {},
     "output_type": "execute_result"
    }
   ],
   "source": [
    "# Cleaning and saving\n",
    "citymapper = pd.read_csv(\"../data_sources/Citymapper_Mobility_Index_20210811.csv\", header=3, index_col=0,\n",
    "                         usecols=['Date', 'London', 'Hong Kong', 'New York City', 'Sydney']).dropna()\n",
    "citymapper = citymapper.loc[:'2021-07-31']  # Trimming to the end of July\n",
    "citymapper"
   ]
  },
  {
   "cell_type": "code",
   "execution_count": 7,
   "id": "heated-hours",
   "metadata": {},
   "outputs": [],
   "source": [
    "citymapper.London.to_csv('../datasets/citymapper_london.csv')"
   ]
  },
  {
   "cell_type": "code",
   "execution_count": 10,
   "id": "ignored-links",
   "metadata": {},
   "outputs": [],
   "source": [
    "citymapper['Hong Kong'].to_csv('../datasets/citymapper_hong_kong.csv')\n",
    "citymapper['Sydney'].to_csv('../datasets/citymapper_sydney.csv')\n",
    "citymapper['New York City'].to_csv('../datasets/citymapper_hong_kong.csv')"
   ]
  },
  {
   "cell_type": "markdown",
   "id": "sought-sydney",
   "metadata": {},
   "source": [
    "## Analysis"
   ]
  },
  {
   "cell_type": "code",
   "execution_count": 5,
   "id": "thirty-twist",
   "metadata": {
    "scrolled": true
   },
   "outputs": [
    {
     "data": {
      "image/png": "[encoded data removed]",
      "text/plain": [
       "<Figure size 432x288 with 1 Axes>"
      ]
     },
     "metadata": {
      "needs_background": "light"
     },
     "output_type": "display_data"
    }
   ],
   "source": [
    "import matplotlib.pyplot as plt\n",
    "plt.plot(citymapper.index,citymapper.London)\n",
    "plt.show()"
   ]
  },
  {
   "cell_type": "code",
   "execution_count": 12,
   "id": "human-infrastructure",
   "metadata": {},
   "outputs": [
    {
     "data": {
      "text/plain": [
       "London    0.097115\n",
       "dtype: float64"
      ]
     },
     "execution_count": 12,
     "metadata": {},
     "output_type": "execute_result"
    }
   ],
   "source": [
    "# First lockdown\n",
    "citymapper.loc['2020-03-23':'2020-05-13'].mean()"
   ]
  },
  {
   "cell_type": "code",
   "execution_count": 13,
   "id": "specialized-pride",
   "metadata": {},
   "outputs": [
    {
     "data": {
      "text/plain": [
       "London    0.296786\n",
       "dtype: float64"
      ]
     },
     "execution_count": 13,
     "metadata": {},
     "output_type": "execute_result"
    }
   ],
   "source": [
    "# Second lockdown\n",
    "citymapper.loc['2020-11-05':'2020-12-02'].mean()"
   ]
  },
  {
   "cell_type": "code",
   "execution_count": 16,
   "id": "mental-parcel",
   "metadata": {},
   "outputs": [
    {
     "data": {
      "text/plain": [
       "London    0.21481\n",
       "dtype: float64"
      ]
     },
     "execution_count": 16,
     "metadata": {},
     "output_type": "execute_result"
    }
   ],
   "source": [
    "# Third lockdown\n",
    "citymapper.loc['2020-12-20':'2021-03-08'].mean()"
   ]
  },
  {
   "cell_type": "code",
   "execution_count": 17,
   "id": "incorporated-fraction",
   "metadata": {},
   "outputs": [
    {
     "data": {
      "text/plain": [
       "0.78519"
      ]
     },
     "execution_count": 17,
     "metadata": {},
     "output_type": "execute_result"
    }
   ],
   "source": [
    "1-0.21481"
   ]
  },
  {
   "cell_type": "code",
   "execution_count": null,
   "id": "preceding-employee",
   "metadata": {},
   "outputs": [],
   "source": []
  }
 ],
 "metadata": {
  "kernelspec": {
   "display_name": "Python 3",
   "language": "python",
   "name": "python3"
  },
  "language_info": {
   "codemirror_mode": {
    "name": "ipython",
    "version": 3
   },
   "file_extension": ".py",
   "mimetype": "text/x-python",
   "name": "python",
   "nbconvert_exporter": "python",
   "pygments_lexer": "ipython3",
   "version": "3.9.4"
  }
 },
 "nbformat": 4,
 "nbformat_minor": 5
}
