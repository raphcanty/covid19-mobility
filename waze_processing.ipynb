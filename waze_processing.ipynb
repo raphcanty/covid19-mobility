{
 "cells": [
  {
   "cell_type": "code",
   "execution_count": 1,
   "id": "alpha-peoples",
   "metadata": {},
   "outputs": [],
   "source": [
    "import pandas as pd"
   ]
  },
  {
   "cell_type": "code",
   "execution_count": 13,
   "id": "liable-witness",
   "metadata": {},
   "outputs": [
    {
     "data": {
      "text/html": [
       "<div>\n",
       "<style scoped>\n",
       "    .dataframe tbody tr th:only-of-type {\n",
       "        vertical-align: middle;\n",
       "    }\n",
       "\n",
       "    .dataframe tbody tr th {\n",
       "        vertical-align: top;\n",
       "    }\n",
       "\n",
       "    .dataframe thead th {\n",
       "        text-align: right;\n",
       "    }\n",
       "</style>\n",
       "<table border=\"1\" class=\"dataframe\">\n",
       "  <thead>\n",
       "    <tr style=\"text-align: right;\">\n",
       "      <th></th>\n",
       "      <th>% Change In Waze Driven Miles/KMs</th>\n",
       "    </tr>\n",
       "    <tr>\n",
       "      <th>Date</th>\n",
       "      <th></th>\n",
       "    </tr>\n",
       "  </thead>\n",
       "  <tbody>\n",
       "    <tr>\n",
       "      <th>Mar 1, 2020</th>\n",
       "      <td>0.05</td>\n",
       "    </tr>\n",
       "    <tr>\n",
       "      <th>Mar 2, 2020</th>\n",
       "      <td>-0.01</td>\n",
       "    </tr>\n",
       "    <tr>\n",
       "      <th>Mar 3, 2020</th>\n",
       "      <td>0.00</td>\n",
       "    </tr>\n",
       "    <tr>\n",
       "      <th>Mar 4, 2020</th>\n",
       "      <td>0.02</td>\n",
       "    </tr>\n",
       "    <tr>\n",
       "      <th>Mar 5, 2020</th>\n",
       "      <td>0.04</td>\n",
       "    </tr>\n",
       "    <tr>\n",
       "      <th>...</th>\n",
       "      <td>...</td>\n",
       "    </tr>\n",
       "    <tr>\n",
       "      <th>Jun 5, 2021</th>\n",
       "      <td>0.10</td>\n",
       "    </tr>\n",
       "    <tr>\n",
       "      <th>Jun 6, 2021</th>\n",
       "      <td>0.12</td>\n",
       "    </tr>\n",
       "    <tr>\n",
       "      <th>Jun 7, 2021</th>\n",
       "      <td>0.04</td>\n",
       "    </tr>\n",
       "    <tr>\n",
       "      <th>Jun 8, 2021</th>\n",
       "      <td>0.08</td>\n",
       "    </tr>\n",
       "    <tr>\n",
       "      <th>Jun 9, 2021</th>\n",
       "      <td>0.06</td>\n",
       "    </tr>\n",
       "  </tbody>\n",
       "</table>\n",
       "<p>466 rows × 1 columns</p>\n",
       "</div>"
      ],
      "text/plain": [
       "             % Change In Waze Driven Miles/KMs\n",
       "Date                                          \n",
       "Mar 1, 2020                               0.05\n",
       "Mar 2, 2020                              -0.01\n",
       "Mar 3, 2020                               0.00\n",
       "Mar 4, 2020                               0.02\n",
       "Mar 5, 2020                               0.04\n",
       "...                                        ...\n",
       "Jun 5, 2021                               0.10\n",
       "Jun 6, 2021                               0.12\n",
       "Jun 7, 2021                               0.04\n",
       "Jun 8, 2021                               0.08\n",
       "Jun 9, 2021                               0.06\n",
       "\n",
       "[466 rows x 1 columns]"
      ]
     },
     "execution_count": 13,
     "metadata": {},
     "output_type": "execute_result"
    }
   ],
   "source": [
    "waze = pd.read_csv('data_sources/Waze | COVID-19 Impact Dashboard_City-Level Data_Table.csv', index_col=0)\n",
    "waze.drop(['City', 'Country'], axis=1, inplace=True)\n",
    "waze"
   ]
  },
  {
   "cell_type": "code",
   "execution_count": 17,
   "id": "revised-shelter",
   "metadata": {},
   "outputs": [],
   "source": [
    "waze.to_csv('datasets/waze.csv')"
   ]
  },
  {
   "cell_type": "code",
   "execution_count": 19,
   "id": "prompt-mission",
   "metadata": {},
   "outputs": [
    {
     "data": {
      "text/plain": [
       "% Change In Waze Driven Miles/KMs   -0.659038\n",
       "dtype: float64"
      ]
     },
     "execution_count": 19,
     "metadata": {},
     "output_type": "execute_result"
    }
   ],
   "source": [
    "# First Lockdown\n",
    "waze.loc['Mar 23, 2020':'May 13, 2020'].mean()\n",
    "#waze.loc['Mar 1, 2020':'Mar 5, 2020']"
   ]
  },
  {
   "cell_type": "code",
   "execution_count": 21,
   "id": "valid-gardening",
   "metadata": {},
   "outputs": [
    {
     "data": {
      "text/plain": [
       "% Change In Waze Driven Miles/KMs   -0.262857\n",
       "dtype: float64"
      ]
     },
     "execution_count": 21,
     "metadata": {},
     "output_type": "execute_result"
    }
   ],
   "source": [
    "# Second lockdown\n",
    "waze.loc['Nov 5, 2020':'Dec 2, 2020'].mean()"
   ]
  },
  {
   "cell_type": "code",
   "execution_count": 22,
   "id": "beautiful-formula",
   "metadata": {},
   "outputs": [
    {
     "data": {
      "text/plain": [
       "% Change In Waze Driven Miles/KMs   -0.303933\n",
       "dtype: float64"
      ]
     },
     "execution_count": 22,
     "metadata": {},
     "output_type": "execute_result"
    }
   ],
   "source": [
    "# Third lockdown\n",
    "waze.loc['Dec 10, 2020':'Mar 8, 2021'].mean()"
   ]
  },
  {
   "cell_type": "code",
   "execution_count": null,
   "id": "devoted-knight",
   "metadata": {},
   "outputs": [],
   "source": []
  }
 ],
 "metadata": {
  "kernelspec": {
   "display_name": "Python 3",
   "language": "python",
   "name": "python3"
  },
  "language_info": {
   "codemirror_mode": {
    "name": "ipython",
    "version": 3
   },
   "file_extension": ".py",
   "mimetype": "text/x-python",
   "name": "python",
   "nbconvert_exporter": "python",
   "pygments_lexer": "ipython3",
   "version": "3.9.4"
  }
 },
 "nbformat": 4,
 "nbformat_minor": 5
}
