{
 "cells": [
  {
   "cell_type": "code",
   "execution_count": 1,
   "id": "fossil-parade",
   "metadata": {},
   "outputs": [],
   "source": [
    "import pandas as pd"
   ]
  },
  {
   "cell_type": "code",
   "execution_count": 4,
   "id": "capable-tablet",
   "metadata": {},
   "outputs": [
    {
     "data": {
      "text/html": [
       "<div>\n",
       "<style scoped>\n",
       "    .dataframe tbody tr th:only-of-type {\n",
       "        vertical-align: middle;\n",
       "    }\n",
       "\n",
       "    .dataframe tbody tr th {\n",
       "        vertical-align: top;\n",
       "    }\n",
       "\n",
       "    .dataframe thead th {\n",
       "        text-align: right;\n",
       "    }\n",
       "</style>\n",
       "<table border=\"1\" class=\"dataframe\">\n",
       "  <thead>\n",
       "    <tr style=\"text-align: right;\">\n",
       "      <th></th>\n",
       "      <th>congestion</th>\n",
       "      <th>diffRatio</th>\n",
       "    </tr>\n",
       "    <tr>\n",
       "      <th>date</th>\n",
       "      <th></th>\n",
       "      <th></th>\n",
       "    </tr>\n",
       "  </thead>\n",
       "  <tbody>\n",
       "    <tr>\n",
       "      <th>30/12/19</th>\n",
       "      <td>21</td>\n",
       "      <td>-0.363636</td>\n",
       "    </tr>\n",
       "    <tr>\n",
       "      <th>31/12/19</th>\n",
       "      <td>20</td>\n",
       "      <td>-0.459459</td>\n",
       "    </tr>\n",
       "    <tr>\n",
       "      <th>1/1/20</th>\n",
       "      <td>11</td>\n",
       "      <td>-0.710526</td>\n",
       "    </tr>\n",
       "    <tr>\n",
       "      <th>2/1/20</th>\n",
       "      <td>19</td>\n",
       "      <td>-0.512821</td>\n",
       "    </tr>\n",
       "    <tr>\n",
       "      <th>3/1/20</th>\n",
       "      <td>22</td>\n",
       "      <td>-0.421053</td>\n",
       "    </tr>\n",
       "    <tr>\n",
       "      <th>...</th>\n",
       "      <td>...</td>\n",
       "      <td>...</td>\n",
       "    </tr>\n",
       "    <tr>\n",
       "      <th>14/4/21</th>\n",
       "      <td>35</td>\n",
       "      <td>-0.078947</td>\n",
       "    </tr>\n",
       "    <tr>\n",
       "      <th>15/4/21</th>\n",
       "      <td>38</td>\n",
       "      <td>-0.025641</td>\n",
       "    </tr>\n",
       "    <tr>\n",
       "      <th>16/4/21</th>\n",
       "      <td>38</td>\n",
       "      <td>0.000000</td>\n",
       "    </tr>\n",
       "    <tr>\n",
       "      <th>17/4/21</th>\n",
       "      <td>31</td>\n",
       "      <td>0.107143</td>\n",
       "    </tr>\n",
       "    <tr>\n",
       "      <th>18/4/21</th>\n",
       "      <td>24</td>\n",
       "      <td>0.043478</td>\n",
       "    </tr>\n",
       "  </tbody>\n",
       "</table>\n",
       "<p>472 rows × 2 columns</p>\n",
       "</div>"
      ],
      "text/plain": [
       "          congestion  diffRatio\n",
       "date                           \n",
       "30/12/19          21  -0.363636\n",
       "31/12/19          20  -0.459459\n",
       "1/1/20            11  -0.710526\n",
       "2/1/20            19  -0.512821\n",
       "3/1/20            22  -0.421053\n",
       "...              ...        ...\n",
       "14/4/21           35  -0.078947\n",
       "15/4/21           38  -0.025641\n",
       "16/4/21           38   0.000000\n",
       "17/4/21           31   0.107143\n",
       "18/4/21           24   0.043478\n",
       "\n",
       "[472 rows x 2 columns]"
      ]
     },
     "execution_count": 4,
     "metadata": {},
     "output_type": "execute_result"
    }
   ],
   "source": [
    "tomtom = pd.read_csv('datasets/tomtom_congestion.csv')\n",
    "tomtom = tomtom.set_index('date')\n",
    "tomtom"
   ]
  },
  {
   "cell_type": "code",
   "execution_count": 7,
   "id": "authorized-bidder",
   "metadata": {},
   "outputs": [
    {
     "data": {
      "text/plain": [
       "congestion    9.923077\n",
       "diffRatio    -0.708581\n",
       "dtype: float64"
      ]
     },
     "execution_count": 7,
     "metadata": {},
     "output_type": "execute_result"
    }
   ],
   "source": [
    "# First Lockdown\n",
    "tomtom.loc['23/3/20':'13/5/20'].mean()"
   ]
  },
  {
   "cell_type": "code",
   "execution_count": 10,
   "id": "written-senate",
   "metadata": {},
   "outputs": [
    {
     "data": {
      "text/plain": [
       "congestion    24.214286\n",
       "diffRatio     -0.298890\n",
       "dtype: float64"
      ]
     },
     "execution_count": 10,
     "metadata": {},
     "output_type": "execute_result"
    }
   ],
   "source": [
    "# Second lockdown\n",
    "tomtom.loc['5/11/20':'2/12/20'].mean()"
   ]
  },
  {
   "cell_type": "code",
   "execution_count": 12,
   "id": "frequent-opera",
   "metadata": {},
   "outputs": [
    {
     "data": {
      "text/plain": [
       "congestion    20.604651\n",
       "diffRatio     -0.390944\n",
       "dtype: float64"
      ]
     },
     "execution_count": 12,
     "metadata": {},
     "output_type": "execute_result"
    }
   ],
   "source": [
    "# Third lockdown\n",
    "tomtom.loc['10/12/20':'8/3/21'].mean()"
   ]
  },
  {
   "cell_type": "code",
   "execution_count": 13,
   "id": "breeding-showcase",
   "metadata": {},
   "outputs": [
    {
     "data": {
      "text/plain": [
       "congestion    59.000000\n",
       "diffRatio      0.552632\n",
       "Name: 4/11/20, dtype: float64"
      ]
     },
     "execution_count": 13,
     "metadata": {},
     "output_type": "execute_result"
    }
   ],
   "source": [
    "tomtom.loc['4/11/20']"
   ]
  },
  {
   "cell_type": "code",
   "execution_count": null,
   "id": "helpful-prince",
   "metadata": {},
   "outputs": [],
   "source": []
  }
 ],
 "metadata": {
  "kernelspec": {
   "display_name": "Python 3",
   "language": "python",
   "name": "python3"
  },
  "language_info": {
   "codemirror_mode": {
    "name": "ipython",
    "version": 3
   },
   "file_extension": ".py",
   "mimetype": "text/x-python",
   "name": "python",
   "nbconvert_exporter": "python",
   "pygments_lexer": "ipython3",
   "version": "3.9.4"
  }
 },
 "nbformat": 4,
 "nbformat_minor": 5
}
